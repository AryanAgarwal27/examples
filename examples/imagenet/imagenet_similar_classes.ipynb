{
 "cells": [
  {
   "cell_type": "code",
   "execution_count": 1,
   "metadata": {},
   "outputs": [],
   "source": [
    "# These imports enhance Python2/3 compatibility.\n",
    "from __future__ import print_function, absolute_import, division, unicode_literals, with_statement"
   ]
  },
  {
   "cell_type": "code",
   "execution_count": 2,
   "metadata": {},
   "outputs": [],
   "source": [
    "import cleanlab\n",
    "import numpy as np\n",
    "import torch\n",
    "\n",
    "# For visualizing images of label errors\n",
    "from PIL import Image\n",
    "from torchvision import datasets\n",
    "from matplotlib import pyplot as plt\n",
    "\n",
    "# urllib2 for python2 and python3\n",
    "try:\n",
    "    # For Python 3.0 and later\n",
    "    from urllib.request import urlopen\n",
    "except ImportError:\n",
    "    # Fall back to Python 2's urllib2\n",
    "    from urllib2 import urlopen"
   ]
  },
  {
   "cell_type": "code",
   "execution_count": 22,
   "metadata": {},
   "outputs": [],
   "source": [
    "# Set-up name mapping for ImageNet\n",
    "url = 'https://gist.githubusercontent.com/aaronpolhamus/964a4411c0906315deb9f4a3723aac57/'\n",
    "url += 'raw/aa66dd9dbf6b56649fa3fab83659b2acbf3cbfd1/map_clsloc.txt'\n",
    "with urlopen(url) as f:\n",
    "    lines = [x.decode('utf-8') for x in f.readlines()]    \n",
    "    nid2name = dict([(l.split(\" \")[0], l.split(\" \")[2][:-1]) for l in lines])\n",
    "    \n",
    "dataset = datasets.ImageFolder(data_dir)\n",
    "nid2idx = dataset.class_to_idx\n",
    "idx2nid = {v: k for k, v in nid2idx.items()}\n",
    "name2nid = {v: k for k, v in nid2name.items()}\n",
    "idx2name = {k: nid2name[v] for k, v in idx2nid.items()}"
   ]
  },
  {
   "cell_type": "markdown",
   "metadata": {},
   "source": [
    "## Analyze the train set on ImageNet"
   ]
  },
  {
   "cell_type": "code",
   "execution_count": 15,
   "metadata": {},
   "outputs": [],
   "source": [
    "# CHANGE THIS TO CHANGE EXPERIMENT\n",
    "# pyx_file = 'imagenet_val_out.npy' # NO FINE TUNING\n",
    "pyx_file = 'imagenet__train__model_resnet50__pyx.npy' # fine tuned with 10fold cv\n",
    "\n",
    "# where imagenet dataset is located\n",
    "train_dir = '/datasets/datasets/imagenet/train/'\n",
    "# Stored results directory\n",
    "pyx_dir = '/datasets/cgn/pyx/imagenet/'\n",
    "\n",
    "# Load in data\n",
    "pyx = np.load(pyx_dir + pyx_file)\n",
    "imgs, labels = [list(z) for  z in zip(*datasets.ImageFolder(train_dir).imgs)]\n",
    "labels = np.array(labels, dtype=int)"
   ]
  },
  {
   "cell_type": "code",
   "execution_count": 19,
   "metadata": {},
   "outputs": [],
   "source": [
    "cj = cleanlab.latent_estimation.estimate_confident_joint_from_probabilities(labels, pyx)"
   ]
  },
  {
   "cell_type": "code",
   "execution_count": 21,
   "metadata": {},
   "outputs": [],
   "source": [
    "cj_non_diag = cj - np.eye(len(cj)) * cj.diagonal()\n",
    "largest_non_diag_raveled = np.argsort(cj_non_diag.ravel())[::-1]\n",
    "largest_non_diag = np.unravel_index(largest_non_diag_raveled, cj_non_diag.shape)\n",
    "largest_non_diag = list(zip(*(list(z) for z in largest_non_diag)))"
   ]
  },
  {
   "cell_type": "code",
   "execution_count": 26,
   "metadata": {},
   "outputs": [
    {
     "name": "stdout",
     "output_type": "stream",
     "text": [
      "645 | n04008634 projectile | n03773504 missile\n",
      "539 | n04493381 tub | n02808440 bathtub\n",
      "476 | n02895154 breastplate | n03146219 cuirass\n",
      "437 | n01693334 green_lizard | n01682714 American_chameleon\n",
      "435 | n01682714 American_chameleon | n01693334 green_lizard\n",
      "433 | n03773504 missile | n04008634 projectile\n",
      "417 | n03710637 maillot | n03710721 maillot\n",
      "416 | n01753488 horned_viper | n01756291 sidewinder\n",
      "410 | n12144580 corn | n13133613 ear\n",
      "406 | n04505470 typewriter_keyboard | n04264628 space_bar\n"
     ]
    }
   ],
   "source": [
    "for i,j in largest_non_diag[:10]:\n",
    "    print(int(round(cj[i,j])), \"|\", idx2nid[i], idx2name[i], \"|\",  idx2nid[j], idx2name[j])"
   ]
  },
  {
   "cell_type": "markdown",
   "metadata": {},
   "source": [
    "# Analye the validation set on ImageNet"
   ]
  },
  {
   "cell_type": "code",
   "execution_count": 3,
   "metadata": {},
   "outputs": [],
   "source": [
    "# CHANGE THIS TO CHANGE EXPERIMENT\n",
    "# pyx_file = 'imagenet_val_out.npy' # NO FINE TUNING\n",
    "pyx_file = 'imagenet_val_out_cv_10fold.npy' # fine tuned with 10fold cv\n",
    "\n",
    "# where imagenet dataset is located\n",
    "data_dir = '/media/ssd/datasets/datasets/imagenet/val/'\n",
    "# Stored results directory\n",
    "pyx_dir = '/media/ssd/datasets/pyx/imagenet/'\n",
    "\n",
    "# Load in data\n",
    "with open(pyx_dir + 'imagenet_val_out_cv_10fold.npy', 'rb') as f:\n",
    "    out = np.load(f)\n",
    "with open(pyx_dir + 'imagenet_val_labels.npy', 'rb') as f:\n",
    "    labels = np.load(f)\n",
    "pyx = torch.nn.functional.softmax(torch.from_numpy(out), dim = 1).numpy()"
   ]
  },
  {
   "cell_type": "code",
   "execution_count": 4,
   "metadata": {},
   "outputs": [],
   "source": [
    "url = 'https://gist.githubusercontent.com/aaronpolhamus/964a4411c0906315deb9f4a3723aac57/'\n",
    "url += 'raw/aa66dd9dbf6b56649fa3fab83659b2acbf3cbfd1/map_clsloc.txt'\n",
    "with urlopen(url) as f:\n",
    "    lines = [x.decode('utf-8') for x in f.readlines()]    \n",
    "    nid2name = dict([(l.split(\" \")[0], l.split(\" \")[2][:-1]) for l in lines])\n",
    "    \n",
    "dataset = datasets.ImageFolder(data_dir)\n",
    "nid2idx = dataset.class_to_idx\n",
    "idx2nid = {v: k for k, v in nid2idx.items()}\n",
    "name2nid = {v: k for k, v in nid2name.items()}\n",
    "idx2name = {k: nid2name[v] for k, v in idx2nid.items()}"
   ]
  },
  {
   "cell_type": "code",
   "execution_count": 5,
   "metadata": {},
   "outputs": [],
   "source": [
    "cj = cleanlab.latent_estimation.estimate_confident_joint_from_probabilities(labels, pyx)\n",
    "py, nm, inv = cleanlab.latent_estimation.estimate_latent(cj, labels)"
   ]
  },
  {
   "cell_type": "code",
   "execution_count": 6,
   "metadata": {},
   "outputs": [],
   "source": [
    "cj_non_diag = cj - np.eye(len(cj)) * cj.diagonal()\n",
    "largest_non_diag_raveled = np.argsort(cj_non_diag.ravel())[::-1]\n",
    "largest_non_diag = np.unravel_index(largest_non_diag_raveled, cj_non_diag.shape)\n",
    "largest_non_diag = list(zip(*(list(z) for z in largest_non_diag)))"
   ]
  },
  {
   "cell_type": "code",
   "execution_count": 7,
   "metadata": {},
   "outputs": [
    {
     "name": "stdout",
     "output_type": "stream",
     "text": [
      "26 | n02979186 cassette_player | n04392985 tape_player\n",
      "23 | n03773504 missile | n04008634 projectile\n",
      "23 | n03642806 laptop | n03832673 notebook\n",
      "23 | n02808440 bathtub | n04493381 tub\n",
      "23 | n13133613 ear | n12144580 corn\n",
      "22 | n03710721 maillot | n03710637 maillot\n",
      "22 | n01682714 American_chameleon | n01693334 green_lizard\n",
      "21 | n02895154 breastplate | n03146219 cuirass\n",
      "20 | n02412080 ram | n02415577 bighorn\n",
      "19 | n04008634 projectile | n03773504 missile\n",
      "18 | n01753488 horned_viper | n01756291 sidewinder\n",
      "18 | n02107908 Appenzeller | n02107574 Greater_Swiss_Mountain_dog\n",
      "18 | n12144580 corn | n13133613 ear\n",
      "17 | n03146219 cuirass | n02895154 breastplate\n",
      "17 | n02113624 toy_poodle | n02113712 miniature_poodle\n",
      "16 | n03710637 maillot | n03710721 maillot\n",
      "16 | n01693334 green_lizard | n01682714 American_chameleon\n",
      "16 | n02123159 tiger_cat | n02123045 tabby\n",
      "16 | n02110185 Siberian_husky | n02109961 Eskimo_dog\n",
      "15 | n04355933 sunglass | n04356056 sunglasses\n",
      "15 | n04152593 screen | n03782006 monitor\n",
      "14 | n01667778 terrapin | n01667114 mud_turtle\n",
      "14 | n04493381 tub | n02808440 bathtub\n",
      "14 | n02871525 bookshop | n03661043 library\n",
      "14 | n07734744 mushroom | n12998815 agaric\n",
      "13 | n04560804 water_jug | n03950228 pitcher\n",
      "13 | n02749479 assault_rifle | n04090263 rifle\n",
      "13 | n02108000 EntleBucher | n02107908 Appenzeller\n",
      "12 | n03637318 lampshade | n04380533 table_lamp\n",
      "12 | n01756291 sidewinder | n01753488 horned_viper\n",
      "12 | n02123045 tabby | n02123159 tiger_cat\n",
      "12 | n03782006 monitor | n04152593 screen\n",
      "12 | n02708093 analog_clock | n04548280 wall_clock\n",
      "12 | n04356056 sunglasses | n04355933 sunglass\n",
      "12 | n02113712 miniature_poodle | n02113624 toy_poodle\n",
      "12 | n03832673 notebook | n03642806 laptop\n",
      "11 | n02119022 red_fox | n02119789 kit_fox\n",
      "11 | n03180011 desktop_computer | n03782006 monitor\n",
      "11 | n03950228 pitcher | n04560804 water_jug\n",
      "10 | n04380533 table_lamp | n03637318 lampshade\n",
      "10 | n01729977 green_snake | n01749939 green_mamba\n",
      "10 | n02109961 Eskimo_dog | n02110185 Siberian_husky\n",
      "10 | n09421951 sandbar | n09428293 seashore\n",
      "10 | n04505470 typewriter_keyboard | n04264628 space_bar\n",
      "9 | n02988304 CD_player | n04392985 tape_player\n",
      "9 | n04591157 Windsor_tie | n04350905 suit\n",
      "9 | n03450230 gown | n03866082 overskirt\n",
      "9 | n03887697 paper_towel | n15075141 toilet_tissue\n",
      "9 | n03690938 lotion | n04357314 sunscreen\n",
      "9 | n02093256 Staffordshire_bullterrier | n02093428 American_Staffordshire_terrier\n",
      "9 | n03180011 desktop_computer | n04152593 screen\n",
      "9 | n02441942 weasel | n02443114 polecat\n",
      "8 | n02129604 tiger | n02123159 tiger_cat\n",
      "8 | n02095314 wire-haired_fox_terrier | n02095570 Lakeland_terrier\n",
      "8 | n07871810 meat_loaf | n07579787 plate\n",
      "8 | n03179701 desk | n03782006 monitor\n",
      "8 | n02123159 tiger_cat | n02129604 tiger\n",
      "8 | n03534580 hoopskirt | n03866082 overskirt\n",
      "8 | n03063599 coffee_mug | n07930864 cup\n",
      "8 | n02978881 cassette | n04392985 tape_player\n",
      "8 | n02110063 malamute | n02109961 Eskimo_dog\n",
      "8 | n03085013 computer_keyboard | n04264628 space_bar\n",
      "8 | n02669723 academic_gown | n03787032 mortarboard\n",
      "8 | n02106030 collie | n02106166 Border_collie\n",
      "8 | n01775062 wolf_spider | n01773549 barn_spider\n",
      "7 | n07734744 mushroom | n13054560 bolete\n",
      "7 | n04487394 trombone | n03110669 cornet\n",
      "7 | n02790996 barbell | n03255030 dumbbel\n",
      "7 | n02092002 Scottish_deerhound | n02090721 Irish_wolfhound\n",
      "7 | n02804414 bassinet | n03125729 cradle\n",
      "7 | n04141327 scabbard | n03658185 letter_opener\n",
      "7 | n02988304 CD_player | n04041544 radio\n",
      "7 | n02124075 Egyptian_cat | n02123045 tabby\n",
      "7 | n01773797 garden_spider | n01773157 black_and_gold_garden_spider\n",
      "7 | n02106030 collie | n02105855 Shetland_sheepdog\n",
      "7 | n02119789 kit_fox | n02119022 red_fox\n",
      "7 | n03110669 cornet | n04487394 trombone\n",
      "7 | n02992529 cellular_telephone | n03485407 hand-held_computer\n",
      "7 | n02443114 polecat | n02443484 black-footed_ferret\n",
      "6 | n03690938 lotion | n03476991 hair_spray\n",
      "6 | n04328186 stopwatch | n03197337 digital_watch\n",
      "6 | n03400231 frying_pan | n04596742 wok\n",
      "6 | n02085936 Maltese_dog | n02098413 Lhasa\n",
      "6 | n04152593 screen | n04404412 television\n",
      "6 | n03709823 mailbag | n04026417 purse\n",
      "6 | n02100583 vizsla | n02087394 Rhodesian_ridgeback\n",
      "6 | n03637318 lampshade | n04286575 spotlight\n",
      "6 | n03388183 fountain_pen | n02783161 ballpoint\n",
      "6 | n02114712 red_wolf | n02114367 timber_wolf\n",
      "6 | n02443484 black-footed_ferret | n02443114 polecat\n",
      "6 | n04366367 suspension_bridge | n03933933 pier\n",
      "6 | n01749939 green_mamba | n01729977 green_snake\n",
      "6 | n01744401 rock_python | n01740131 night_snake\n",
      "6 | n02493509 titi | n02494079 squirrel_monkey\n",
      "6 | n03814906 necklace | n02999410 chain\n",
      "6 | n02094258 Norwich_terrier | n02096177 cairn\n",
      "6 | n02226429 grasshopper | n02229544 cricket\n",
      "6 | n03793489 mouse | n03180011 desktop_computer\n",
      "6 | n02167151 ground_beetle | n02165105 tiger_beetle\n",
      "6 | n02110185 Siberian_husky | n02110063 malamute\n"
     ]
    }
   ],
   "source": [
    "for i,j in largest_non_diag[:100]:\n",
    "    print(cj[i,j], \"|\", idx2nid[i], idx2name[i], \"|\",  idx2nid[j], idx2name[j])"
   ]
  }
 ],
 "metadata": {
  "kernelspec": {
   "display_name": "Python 3",
   "language": "python",
   "name": "python3"
  },
  "language_info": {
   "codemirror_mode": {
    "name": "ipython",
    "version": 3
   },
   "file_extension": ".py",
   "mimetype": "text/x-python",
   "name": "python",
   "nbconvert_exporter": "python",
   "pygments_lexer": "ipython3",
   "version": "3.6.7"
  }
 },
 "nbformat": 4,
 "nbformat_minor": 2
}
