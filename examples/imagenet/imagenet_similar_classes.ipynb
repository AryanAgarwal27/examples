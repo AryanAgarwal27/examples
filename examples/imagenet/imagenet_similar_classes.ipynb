{
 "cells": [
  {
   "cell_type": "code",
   "execution_count": 1,
   "metadata": {},
   "outputs": [],
   "source": [
    "# These imports enhance Python2/3 compatibility.\n",
    "from __future__ import print_function, absolute_import, division, unicode_literals, with_statement"
   ]
  },
  {
   "cell_type": "code",
   "execution_count": 4,
   "metadata": {},
   "outputs": [],
   "source": [
    "import cleanlab\n",
    "import numpy as np\n",
    "import torch\n",
    "\n",
    "# For visualizing images of label errors\n",
    "from PIL import Image\n",
    "from torchvision import datasets\n",
    "from matplotlib import pyplot as plt\n",
    "\n",
    "# urllib2 for python2 and python3\n",
    "try:\n",
    "    # For Python 3.0 and later\n",
    "    from urllib.request import urlopen\n",
    "except ImportError:\n",
    "    # Fall back to Python 2's urllib2\n",
    "    from urllib2 import urlopen\n",
    "    \n",
    "# where imagenet dataset is located\n",
    "train_dir = '/datasets/datasets/imagenet/val/'"
   ]
  },
  {
   "cell_type": "code",
   "execution_count": 5,
   "metadata": {},
   "outputs": [],
   "source": [
    "# Set-up name mapping for ImageNet train data\n",
    "url = 'https://gist.githubusercontent.com/aaronpolhamus/964a4411c0906315deb9f4a3723aac57/'\n",
    "url += 'raw/aa66dd9dbf6b56649fa3fab83659b2acbf3cbfd1/map_clsloc.txt'\n",
    "with urlopen(url) as f:\n",
    "    lines = [x.decode('utf-8') for x in f.readlines()]    \n",
    "    nid2name = dict([(l.split(\" \")[0], l.split(\" \")[2][:-1]) for l in lines])\n",
    "    \n",
    "dataset = datasets.ImageFolder(train_dir)\n",
    "nid2idx = dataset.class_to_idx\n",
    "idx2nid = {v: k for k, v in nid2idx.items()}\n",
    "name2nid = {v: k for k, v in nid2name.items()}\n",
    "idx2name = {k: nid2name[v] for k, v in idx2nid.items()}"
   ]
  },
  {
   "cell_type": "markdown",
   "metadata": {},
   "source": [
    "## Analyze the train set on ImageNet"
   ]
  },
  {
   "cell_type": "code",
   "execution_count": 6,
   "metadata": {},
   "outputs": [],
   "source": [
    "# CHANGE THIS TO CHANGE EXPERIMENT\n",
    "# pyx_file = 'imagenet_val_out.npy' # NO FINE TUNING\n",
    "pyx_file = 'imagenet__train__model_resnet50__pyx.npy' # trained from scratch with 10fold cv\n",
    "\n",
    "# where imagenet dataset is located\n",
    "train_dir = '/datasets/datasets/imagenet/train/'\n",
    "# Stored results directory\n",
    "pyx_dir = '/datasets/cgn/pyx/imagenet/'\n",
    "\n",
    "# Load in data\n",
    "pyx = np.load(pyx_dir + pyx_file)\n",
    "imgs, labels = [list(z) for  z in zip(*datasets.ImageFolder(train_dir).imgs)]\n",
    "labels = np.array(labels, dtype=int)"
   ]
  },
  {
   "cell_type": "code",
   "execution_count": 38,
   "metadata": {},
   "outputs": [],
   "source": [
    "cj = cleanlab.latent_estimation.estimate_confident_joint_from_probabilities(labels, pyx)"
   ]
  },
  {
   "cell_type": "markdown",
   "metadata": {},
   "source": [
    "# A bad way to approach this problem might be to just look at the correlation of every column in the probability matrix. The problem is correlation is symmetric and this will correlate everything that has small counts. "
   ]
  },
  {
   "cell_type": "code",
   "execution_count": 143,
   "metadata": {},
   "outputs": [],
   "source": [
    "corr = np.corrcoef(pyx.T)"
   ]
  },
  {
   "cell_type": "code",
   "execution_count": 220,
   "metadata": {},
   "outputs": [
    {
     "name": "stdout",
     "output_type": "stream",
     "text": [
      "[('projectile', 'missile'), ('missile', 'projectile'), ('Eskimo_dog', 'Siberian_husky'), ('Siberian_husky', 'Eskimo_dog'), ('sunglass', 'sunglasses')]\n",
      "['cleaver', 'Australian_terrier', 'miniature_poodle', 'weasel', 'titi', 'ballpoint', 'bow', 'breastplate', 'can_opener', 'CD_player']\n"
     ]
    }
   ],
   "source": [
    "corr_non_diag = corr - np.eye(len(corr)) * corr.diagonal()\n",
    "corr_largest_non_diag_raveled = np.argsort(corr_non_diag.ravel())[::-1]\n",
    "corr_largest_non_diag = np.unravel_index(corr_largest_non_diag_raveled, corr_non_diag.shape)\n",
    "corr_largest_non_diag = list(zip(*(list(z) for z in corr_largest_non_diag)))\n",
    "\n",
    "print([(nid2name[idx2nid[z[0]]], nid2name[idx2nid[z[1]]]) for z in corr_largest_non_diag][:5])\n",
    "print([nid2name[idx2nid[z]] for z in corr.diagonal().argsort()[:10]])"
   ]
  },
  {
   "cell_type": "markdown",
   "metadata": {},
   "source": [
    "# Using confident joint"
   ]
  },
  {
   "cell_type": "code",
   "execution_count": 47,
   "metadata": {},
   "outputs": [],
   "source": [
    "joint = cleanlab.latent_estimation.estimate_joint(cj, labels, pyx)\n",
    "joint_non_diag = joint - np.eye(len(joint)) * joint.diagonal()"
   ]
  },
  {
   "cell_type": "code",
   "execution_count": 8,
   "metadata": {},
   "outputs": [],
   "source": [
    "cj_non_diag = cj - np.eye(len(cj)) * cj.diagonal()\n",
    "largest_non_diag_raveled = np.argsort(cj_non_diag.ravel())[::-1]\n",
    "largest_non_diag = np.unravel_index(largest_non_diag_raveled, cj_non_diag.shape)\n",
    "largest_non_diag = list(zip(*(list(z) for z in largest_non_diag)))"
   ]
  },
  {
   "cell_type": "code",
   "execution_count": 69,
   "metadata": {},
   "outputs": [],
   "source": [
    "# Checks that joint correctly has rows that are p(s)\n",
    "assert(all(joint.sum(axis = 1) - np.bincount(labels) / len(labels) < 1e-4))"
   ]
  },
  {
   "cell_type": "code",
   "execution_count": 123,
   "metadata": {},
   "outputs": [
    {
     "name": "stdout",
     "output_type": "stream",
     "text": [
      "Index of 'bighorn' in sorted diagonal of cj: 374\n",
      "Index of 'bighorn' in sorted diagonal of joint: 374\n",
      "Index of 'bighorn' in sorted most noisy classes in cj: 150\n",
      "Index of 'bighorn' in sorted most noisy classes in joint: 150\n",
      "Index of 'bighorn' in sorted most noisy true classes in cj: 325\n",
      "Index of 'bighorn' in sorted most noisy true classes in joint: 325\n",
      "Least confident class by diagonal of cj: English_foxhound 167\n",
      "Least confident class by diagonal of joint: English_foxhound 167\n",
      "Least confident class by max sum of row of non-diagonal elements of cj: water_jug 899\n",
      "Least confident class by max sum of column of non-diagonal elements of cj: maillot 638\n",
      "Largest noise rate: [('projectile', 744), ('missile', 657)]\n"
     ]
    }
   ],
   "source": [
    "class_name = 'bighorn'\n",
    "\n",
    "print(\"Index of '{}' in sorted diagonal of cj: \".format(class_name), end = \"\")\n",
    "print([nid2name[idx2nid[i]] for i in cj.diagonal().argsort()].index(class_name))\n",
    "\n",
    "print(\"Index of '{}' in sorted diagonal of joint: \".format(class_name), end = \"\")\n",
    "print([nid2name[idx2nid[i]] for i in joint.diagonal().argsort()].index(class_name))\n",
    "\n",
    "print(\"Index of '{}' in sorted most noisy classes in cj: \".format(class_name), end = \"\")\n",
    "print([nid2name[idx2nid[i]] for i in np.argsort(cj_non_diag.sum(axis = 0))[::-1]].index(class_name))\n",
    "\n",
    "print(\"Index of '{}' in sorted most noisy classes in joint: \".format(class_name), end = \"\")\n",
    "print([nid2name[idx2nid[i]] for i in np.argsort(joint_non_diag.sum(axis = 0))[::-1]].index(class_name))\n",
    "\n",
    "print(\"Index of '{}' in sorted most noisy true classes in cj: \".format(class_name), end = \"\")\n",
    "print([nid2name[idx2nid[i]] for i in np.argsort(cj_non_diag.sum(axis = 1))[::-1]].index(class_name))\n",
    "\n",
    "print(\"Index of '{}' in sorted most noisy true classes in joint: \".format(class_name), end = \"\")\n",
    "print([nid2name[idx2nid[i]] for i in np.argsort(joint_non_diag.sum(axis = 1))[::-1]].index(class_name))\n",
    "\n",
    "idx = cj.diagonal().argmin()\n",
    "print(\"Least confident class by diagonal of cj:\", nid2name[idx2nid[idx]], idx)\n",
    "idx = joint.diagonal().argmin()\n",
    "print(\"Least confident class by diagonal of joint:\", nid2name[idx2nid[idx]], idx)\n",
    "idx = cj_non_diag.sum(axis = 0).argmax()\n",
    "print(\"Least confident class by max sum of row of non-diagonal elements of cj:\", nid2name[idx2nid[idx]], idx)\n",
    "idx = joint_non_diag.sum(axis = 1).argmax()\n",
    "print(\"Least confident class by max sum of column of non-diagonal elements of cj:\", nid2name[idx2nid[idx]], idx)\n",
    "print('Largest noise rate:', [(nid2name[idx2nid[z]], z) for z in largest_non_diag[0]])"
   ]
  },
  {
   "cell_type": "code",
   "execution_count": 221,
   "metadata": {},
   "outputs": [
    {
     "data": {
      "text/plain": [
       "array([[1238.9       ,    2.6       ,    0.        , ...,    0.        ,\n",
       "           0.        ,    0.        ],\n",
       "       [   1.27326151, 1264.34867777,    0.        , ...,    0.        ,\n",
       "           0.        ,    0.        ],\n",
       "       [   0.        ,    0.        , 1150.16465423, ...,    0.        ,\n",
       "           0.        ,    0.        ],\n",
       "       ...,\n",
       "       [   0.        ,    0.        ,    0.        , ..., 1136.59621802,\n",
       "           0.        ,    0.        ],\n",
       "       [   0.        ,    0.        ,    0.        , ...,    0.        ,\n",
       "         874.04809619,    0.        ],\n",
       "       [   0.        ,    0.        ,    0.        , ...,    0.        ,\n",
       "           0.        ,  861.52019002]])"
      ]
     },
     "execution_count": 221,
     "metadata": {},
     "output_type": "execute_result"
    }
   ],
   "source": [
    "cj"
   ]
  },
  {
   "cell_type": "code",
   "execution_count": 251,
   "metadata": {},
   "outputs": [],
   "source": [
    "edges = [(\n",
    "    idx2name[i].replace('American_chameleon', 'chameleon').replace('typewriter_keyboard', 'keyboard'), \n",
    "    idx2name[j].replace('American_chameleon', 'chameleon').replace('typewriter_keyboard', 'keyboard'), \n",
    "    idx2nid[i], \n",
    "    idx2nid[j], \n",
    "    int(round(cj[i,j])),\n",
    "    joint[i,j].round(6),\n",
    ") for i,j in largest_non_diag[:30]]\n",
    "# nodes = list({z for i,j in largest_non_diag[:30] for z in (idx2name[i], idx2name[j])})"
   ]
  },
  {
   "cell_type": "code",
   "execution_count": 268,
   "metadata": {},
   "outputs": [
    {
     "data": {
      "text/html": [
       "<div>\n",
       "<style scoped>\n",
       "    .dataframe tbody tr th:only-of-type {\n",
       "        vertical-align: middle;\n",
       "    }\n",
       "\n",
       "    .dataframe tbody tr th {\n",
       "        vertical-align: top;\n",
       "    }\n",
       "\n",
       "    .dataframe thead th {\n",
       "        text-align: right;\n",
       "    }\n",
       "</style>\n",
       "<table border=\"1\" class=\"dataframe\">\n",
       "  <thead>\n",
       "    <tr style=\"text-align: right;\">\n",
       "      <th></th>\n",
       "      <th>$\\tilde{y}$ name</th>\n",
       "      <th>$y^*$ name</th>\n",
       "      <th>$\\tilde{y}$ nid</th>\n",
       "      <th>$y^*$ nid</th>\n",
       "      <th>$C(\\tilde{y},y^*)$</th>\n",
       "      <th>$P(\\tilde{y},y^*)$</th>\n",
       "      <th>Rank</th>\n",
       "    </tr>\n",
       "  </thead>\n",
       "  <tbody>\n",
       "    <tr>\n",
       "      <th>0</th>\n",
       "      <td>projectile</td>\n",
       "      <td>missile</td>\n",
       "      <td>n04008634</td>\n",
       "      <td>n03773504</td>\n",
       "      <td>645</td>\n",
       "      <td>0.000503</td>\n",
       "      <td>1</td>\n",
       "    </tr>\n",
       "    <tr>\n",
       "      <th>1</th>\n",
       "      <td>tub</td>\n",
       "      <td>bathtub</td>\n",
       "      <td>n04493381</td>\n",
       "      <td>n02808440</td>\n",
       "      <td>539</td>\n",
       "      <td>0.000421</td>\n",
       "      <td>2</td>\n",
       "    </tr>\n",
       "    <tr>\n",
       "      <th>2</th>\n",
       "      <td>breastplate</td>\n",
       "      <td>cuirass</td>\n",
       "      <td>n02895154</td>\n",
       "      <td>n03146219</td>\n",
       "      <td>476</td>\n",
       "      <td>0.000371</td>\n",
       "      <td>3</td>\n",
       "    </tr>\n",
       "    <tr>\n",
       "      <th>3</th>\n",
       "      <td>green_lizard</td>\n",
       "      <td>chameleon</td>\n",
       "      <td>n01693334</td>\n",
       "      <td>n01682714</td>\n",
       "      <td>437</td>\n",
       "      <td>0.000341</td>\n",
       "      <td>4</td>\n",
       "    </tr>\n",
       "    <tr>\n",
       "      <th>4</th>\n",
       "      <td>chameleon</td>\n",
       "      <td>green_lizard</td>\n",
       "      <td>n01682714</td>\n",
       "      <td>n01693334</td>\n",
       "      <td>435</td>\n",
       "      <td>0.000340</td>\n",
       "      <td>5</td>\n",
       "    </tr>\n",
       "    <tr>\n",
       "      <th>5</th>\n",
       "      <td>missile</td>\n",
       "      <td>projectile</td>\n",
       "      <td>n03773504</td>\n",
       "      <td>n04008634</td>\n",
       "      <td>433</td>\n",
       "      <td>0.000338</td>\n",
       "      <td>6</td>\n",
       "    </tr>\n",
       "    <tr>\n",
       "      <th>6</th>\n",
       "      <td>maillot</td>\n",
       "      <td>maillot</td>\n",
       "      <td>n03710637</td>\n",
       "      <td>n03710721</td>\n",
       "      <td>417</td>\n",
       "      <td>0.000326</td>\n",
       "      <td>7</td>\n",
       "    </tr>\n",
       "    <tr>\n",
       "      <th>7</th>\n",
       "      <td>horned_viper</td>\n",
       "      <td>sidewinder</td>\n",
       "      <td>n01753488</td>\n",
       "      <td>n01756291</td>\n",
       "      <td>416</td>\n",
       "      <td>0.000324</td>\n",
       "      <td>8</td>\n",
       "    </tr>\n",
       "    <tr>\n",
       "      <th>8</th>\n",
       "      <td>corn</td>\n",
       "      <td>ear</td>\n",
       "      <td>n12144580</td>\n",
       "      <td>n13133613</td>\n",
       "      <td>410</td>\n",
       "      <td>0.000320</td>\n",
       "      <td>9</td>\n",
       "    </tr>\n",
       "    <tr>\n",
       "      <th>9</th>\n",
       "      <td>keyboard</td>\n",
       "      <td>space_bar</td>\n",
       "      <td>n04505470</td>\n",
       "      <td>n04264628</td>\n",
       "      <td>406</td>\n",
       "      <td>0.000317</td>\n",
       "      <td>10</td>\n",
       "    </tr>\n",
       "  </tbody>\n",
       "</table>\n",
       "</div>"
      ],
      "text/plain": [
       "  $\\tilde{y}$ name    $y^*$ name $\\tilde{y}$ nid  $y^*$ nid  \\\n",
       "0       projectile       missile       n04008634  n03773504   \n",
       "1              tub       bathtub       n04493381  n02808440   \n",
       "2      breastplate       cuirass       n02895154  n03146219   \n",
       "3     green_lizard     chameleon       n01693334  n01682714   \n",
       "4        chameleon  green_lizard       n01682714  n01693334   \n",
       "5          missile    projectile       n03773504  n04008634   \n",
       "6          maillot       maillot       n03710637  n03710721   \n",
       "7     horned_viper    sidewinder       n01753488  n01756291   \n",
       "8             corn           ear       n12144580  n13133613   \n",
       "9         keyboard     space_bar       n04505470  n04264628   \n",
       "\n",
       "   $C(\\tilde{y},y^*)$  $P(\\tilde{y},y^*)$  Rank  \n",
       "0                 645            0.000503     1  \n",
       "1                 539            0.000421     2  \n",
       "2                 476            0.000371     3  \n",
       "3                 437            0.000341     4  \n",
       "4                 435            0.000340     5  \n",
       "5                 433            0.000338     6  \n",
       "6                 417            0.000326     7  \n",
       "7                 416            0.000324     8  \n",
       "8                 410            0.000320     9  \n",
       "9                 406            0.000317    10  "
      ]
     },
     "execution_count": 268,
     "metadata": {},
     "output_type": "execute_result"
    }
   ],
   "source": [
    "df"
   ]
  },
  {
   "cell_type": "code",
   "execution_count": 270,
   "metadata": {},
   "outputs": [
    {
     "name": "stdout",
     "output_type": "stream",
     "text": [
      "\\begin{tabular}{rllllrr}\n",
      "\\toprule\n",
      " Rank & $\\tilde{y}$ name   &   $y^*$ name   &   $\\tilde{y}$ nid   &   $y^*$ nid   &   $C(\\tilde{y},y^*)$   &   $P(\\tilde{y},y^*)$  \\\\\n",
      "\\midrule\n",
      "    1 &       projectile &       missile &       n04008634 &  n03773504 &                 645 &            0.000503 \\\\\n",
      "    2 &              tub &       bathtub &       n04493381 &  n02808440 &                 539 &            0.000421 \\\\\n",
      "    3 &      breastplate &       cuirass &       n02895154 &  n03146219 &                 476 &            0.000371 \\\\\n",
      "    4 &     green\\_lizard &     chameleon &       n01693334 &  n01682714 &                 437 &            0.000341 \\\\\n",
      "    5 &        chameleon &  green\\_lizard &       n01682714 &  n01693334 &                 435 &            0.000340 \\\\\n",
      "    6 &          missile &    projectile &       n03773504 &  n04008634 &                 433 &            0.000338 \\\\\n",
      "    7 &          maillot &       maillot &       n03710637 &  n03710721 &                 417 &            0.000326 \\\\\n",
      "    8 &     horned\\_viper &    sidewinder &       n01753488 &  n01756291 &                 416 &            0.000324 \\\\\n",
      "    9 &             corn &           ear &       n12144580 &  n13133613 &                 410 &            0.000320 \\\\\n",
      "   10 &         keyboard &     space\\_bar &       n04505470 &  n04264628 &                 406 &            0.000317 \\\\\n",
      "\\bottomrule\n",
      "\\end{tabular}\n",
      "\n"
     ]
    },
    {
     "data": {
      "text/html": [
       "<style  type=\"text/css\" >\n",
       "    #T_cbb6e1d4_7c14_11e9_bad5_378c766d5976row0_col5 {\n",
       "            width:  50px;\n",
       "        }    #T_cbb6e1d4_7c14_11e9_bad5_378c766d5976row1_col5 {\n",
       "            width:  50px;\n",
       "        }    #T_cbb6e1d4_7c14_11e9_bad5_378c766d5976row2_col5 {\n",
       "            width:  50px;\n",
       "        }    #T_cbb6e1d4_7c14_11e9_bad5_378c766d5976row3_col5 {\n",
       "            width:  50px;\n",
       "        }    #T_cbb6e1d4_7c14_11e9_bad5_378c766d5976row4_col5 {\n",
       "            width:  50px;\n",
       "        }    #T_cbb6e1d4_7c14_11e9_bad5_378c766d5976row5_col5 {\n",
       "            width:  50px;\n",
       "        }    #T_cbb6e1d4_7c14_11e9_bad5_378c766d5976row6_col5 {\n",
       "            width:  50px;\n",
       "        }    #T_cbb6e1d4_7c14_11e9_bad5_378c766d5976row7_col5 {\n",
       "            width:  50px;\n",
       "        }    #T_cbb6e1d4_7c14_11e9_bad5_378c766d5976row8_col5 {\n",
       "            width:  50px;\n",
       "        }    #T_cbb6e1d4_7c14_11e9_bad5_378c766d5976row9_col5 {\n",
       "            width:  50px;\n",
       "        }</style><table id=\"T_cbb6e1d4_7c14_11e9_bad5_378c766d5976\" ><thead>    <tr>        <th class=\"blank level0\" ></th>        <th class=\"col_heading level0 col0\" >Rank</th>        <th class=\"col_heading level0 col1\" >$\\tilde{y}$ name</th>        <th class=\"col_heading level0 col2\" >$y^*$ name</th>        <th class=\"col_heading level0 col3\" >$\\tilde{y}$ nid</th>        <th class=\"col_heading level0 col4\" >$y^*$ nid</th>        <th class=\"col_heading level0 col5\" >$C(\\tilde{y},y^*)$</th>        <th class=\"col_heading level0 col6\" >$P(\\tilde{y},y^*)$</th>    </tr></thead><tbody>\n",
       "                <tr>\n",
       "                        <th id=\"T_cbb6e1d4_7c14_11e9_bad5_378c766d5976level0_row0\" class=\"row_heading level0 row0\" >0</th>\n",
       "                        <td id=\"T_cbb6e1d4_7c14_11e9_bad5_378c766d5976row0_col0\" class=\"data row0 col0\" >1</td>\n",
       "                        <td id=\"T_cbb6e1d4_7c14_11e9_bad5_378c766d5976row0_col1\" class=\"data row0 col1\" >projectile</td>\n",
       "                        <td id=\"T_cbb6e1d4_7c14_11e9_bad5_378c766d5976row0_col2\" class=\"data row0 col2\" >missile</td>\n",
       "                        <td id=\"T_cbb6e1d4_7c14_11e9_bad5_378c766d5976row0_col3\" class=\"data row0 col3\" >n04008634</td>\n",
       "                        <td id=\"T_cbb6e1d4_7c14_11e9_bad5_378c766d5976row0_col4\" class=\"data row0 col4\" >n03773504</td>\n",
       "                        <td id=\"T_cbb6e1d4_7c14_11e9_bad5_378c766d5976row0_col5\" class=\"data row0 col5\" >645</td>\n",
       "                        <td id=\"T_cbb6e1d4_7c14_11e9_bad5_378c766d5976row0_col6\" class=\"data row0 col6\" >0.000503</td>\n",
       "            </tr>\n",
       "            <tr>\n",
       "                        <th id=\"T_cbb6e1d4_7c14_11e9_bad5_378c766d5976level0_row1\" class=\"row_heading level0 row1\" >1</th>\n",
       "                        <td id=\"T_cbb6e1d4_7c14_11e9_bad5_378c766d5976row1_col0\" class=\"data row1 col0\" >2</td>\n",
       "                        <td id=\"T_cbb6e1d4_7c14_11e9_bad5_378c766d5976row1_col1\" class=\"data row1 col1\" >tub</td>\n",
       "                        <td id=\"T_cbb6e1d4_7c14_11e9_bad5_378c766d5976row1_col2\" class=\"data row1 col2\" >bathtub</td>\n",
       "                        <td id=\"T_cbb6e1d4_7c14_11e9_bad5_378c766d5976row1_col3\" class=\"data row1 col3\" >n04493381</td>\n",
       "                        <td id=\"T_cbb6e1d4_7c14_11e9_bad5_378c766d5976row1_col4\" class=\"data row1 col4\" >n02808440</td>\n",
       "                        <td id=\"T_cbb6e1d4_7c14_11e9_bad5_378c766d5976row1_col5\" class=\"data row1 col5\" >539</td>\n",
       "                        <td id=\"T_cbb6e1d4_7c14_11e9_bad5_378c766d5976row1_col6\" class=\"data row1 col6\" >0.000421</td>\n",
       "            </tr>\n",
       "            <tr>\n",
       "                        <th id=\"T_cbb6e1d4_7c14_11e9_bad5_378c766d5976level0_row2\" class=\"row_heading level0 row2\" >2</th>\n",
       "                        <td id=\"T_cbb6e1d4_7c14_11e9_bad5_378c766d5976row2_col0\" class=\"data row2 col0\" >3</td>\n",
       "                        <td id=\"T_cbb6e1d4_7c14_11e9_bad5_378c766d5976row2_col1\" class=\"data row2 col1\" >breastplate</td>\n",
       "                        <td id=\"T_cbb6e1d4_7c14_11e9_bad5_378c766d5976row2_col2\" class=\"data row2 col2\" >cuirass</td>\n",
       "                        <td id=\"T_cbb6e1d4_7c14_11e9_bad5_378c766d5976row2_col3\" class=\"data row2 col3\" >n02895154</td>\n",
       "                        <td id=\"T_cbb6e1d4_7c14_11e9_bad5_378c766d5976row2_col4\" class=\"data row2 col4\" >n03146219</td>\n",
       "                        <td id=\"T_cbb6e1d4_7c14_11e9_bad5_378c766d5976row2_col5\" class=\"data row2 col5\" >476</td>\n",
       "                        <td id=\"T_cbb6e1d4_7c14_11e9_bad5_378c766d5976row2_col6\" class=\"data row2 col6\" >0.000371</td>\n",
       "            </tr>\n",
       "            <tr>\n",
       "                        <th id=\"T_cbb6e1d4_7c14_11e9_bad5_378c766d5976level0_row3\" class=\"row_heading level0 row3\" >3</th>\n",
       "                        <td id=\"T_cbb6e1d4_7c14_11e9_bad5_378c766d5976row3_col0\" class=\"data row3 col0\" >4</td>\n",
       "                        <td id=\"T_cbb6e1d4_7c14_11e9_bad5_378c766d5976row3_col1\" class=\"data row3 col1\" >green_lizard</td>\n",
       "                        <td id=\"T_cbb6e1d4_7c14_11e9_bad5_378c766d5976row3_col2\" class=\"data row3 col2\" >chameleon</td>\n",
       "                        <td id=\"T_cbb6e1d4_7c14_11e9_bad5_378c766d5976row3_col3\" class=\"data row3 col3\" >n01693334</td>\n",
       "                        <td id=\"T_cbb6e1d4_7c14_11e9_bad5_378c766d5976row3_col4\" class=\"data row3 col4\" >n01682714</td>\n",
       "                        <td id=\"T_cbb6e1d4_7c14_11e9_bad5_378c766d5976row3_col5\" class=\"data row3 col5\" >437</td>\n",
       "                        <td id=\"T_cbb6e1d4_7c14_11e9_bad5_378c766d5976row3_col6\" class=\"data row3 col6\" >0.000341</td>\n",
       "            </tr>\n",
       "            <tr>\n",
       "                        <th id=\"T_cbb6e1d4_7c14_11e9_bad5_378c766d5976level0_row4\" class=\"row_heading level0 row4\" >4</th>\n",
       "                        <td id=\"T_cbb6e1d4_7c14_11e9_bad5_378c766d5976row4_col0\" class=\"data row4 col0\" >5</td>\n",
       "                        <td id=\"T_cbb6e1d4_7c14_11e9_bad5_378c766d5976row4_col1\" class=\"data row4 col1\" >chameleon</td>\n",
       "                        <td id=\"T_cbb6e1d4_7c14_11e9_bad5_378c766d5976row4_col2\" class=\"data row4 col2\" >green_lizard</td>\n",
       "                        <td id=\"T_cbb6e1d4_7c14_11e9_bad5_378c766d5976row4_col3\" class=\"data row4 col3\" >n01682714</td>\n",
       "                        <td id=\"T_cbb6e1d4_7c14_11e9_bad5_378c766d5976row4_col4\" class=\"data row4 col4\" >n01693334</td>\n",
       "                        <td id=\"T_cbb6e1d4_7c14_11e9_bad5_378c766d5976row4_col5\" class=\"data row4 col5\" >435</td>\n",
       "                        <td id=\"T_cbb6e1d4_7c14_11e9_bad5_378c766d5976row4_col6\" class=\"data row4 col6\" >0.00034</td>\n",
       "            </tr>\n",
       "            <tr>\n",
       "                        <th id=\"T_cbb6e1d4_7c14_11e9_bad5_378c766d5976level0_row5\" class=\"row_heading level0 row5\" >5</th>\n",
       "                        <td id=\"T_cbb6e1d4_7c14_11e9_bad5_378c766d5976row5_col0\" class=\"data row5 col0\" >6</td>\n",
       "                        <td id=\"T_cbb6e1d4_7c14_11e9_bad5_378c766d5976row5_col1\" class=\"data row5 col1\" >missile</td>\n",
       "                        <td id=\"T_cbb6e1d4_7c14_11e9_bad5_378c766d5976row5_col2\" class=\"data row5 col2\" >projectile</td>\n",
       "                        <td id=\"T_cbb6e1d4_7c14_11e9_bad5_378c766d5976row5_col3\" class=\"data row5 col3\" >n03773504</td>\n",
       "                        <td id=\"T_cbb6e1d4_7c14_11e9_bad5_378c766d5976row5_col4\" class=\"data row5 col4\" >n04008634</td>\n",
       "                        <td id=\"T_cbb6e1d4_7c14_11e9_bad5_378c766d5976row5_col5\" class=\"data row5 col5\" >433</td>\n",
       "                        <td id=\"T_cbb6e1d4_7c14_11e9_bad5_378c766d5976row5_col6\" class=\"data row5 col6\" >0.000338</td>\n",
       "            </tr>\n",
       "            <tr>\n",
       "                        <th id=\"T_cbb6e1d4_7c14_11e9_bad5_378c766d5976level0_row6\" class=\"row_heading level0 row6\" >6</th>\n",
       "                        <td id=\"T_cbb6e1d4_7c14_11e9_bad5_378c766d5976row6_col0\" class=\"data row6 col0\" >7</td>\n",
       "                        <td id=\"T_cbb6e1d4_7c14_11e9_bad5_378c766d5976row6_col1\" class=\"data row6 col1\" >maillot</td>\n",
       "                        <td id=\"T_cbb6e1d4_7c14_11e9_bad5_378c766d5976row6_col2\" class=\"data row6 col2\" >maillot</td>\n",
       "                        <td id=\"T_cbb6e1d4_7c14_11e9_bad5_378c766d5976row6_col3\" class=\"data row6 col3\" >n03710637</td>\n",
       "                        <td id=\"T_cbb6e1d4_7c14_11e9_bad5_378c766d5976row6_col4\" class=\"data row6 col4\" >n03710721</td>\n",
       "                        <td id=\"T_cbb6e1d4_7c14_11e9_bad5_378c766d5976row6_col5\" class=\"data row6 col5\" >417</td>\n",
       "                        <td id=\"T_cbb6e1d4_7c14_11e9_bad5_378c766d5976row6_col6\" class=\"data row6 col6\" >0.000326</td>\n",
       "            </tr>\n",
       "            <tr>\n",
       "                        <th id=\"T_cbb6e1d4_7c14_11e9_bad5_378c766d5976level0_row7\" class=\"row_heading level0 row7\" >7</th>\n",
       "                        <td id=\"T_cbb6e1d4_7c14_11e9_bad5_378c766d5976row7_col0\" class=\"data row7 col0\" >8</td>\n",
       "                        <td id=\"T_cbb6e1d4_7c14_11e9_bad5_378c766d5976row7_col1\" class=\"data row7 col1\" >horned_viper</td>\n",
       "                        <td id=\"T_cbb6e1d4_7c14_11e9_bad5_378c766d5976row7_col2\" class=\"data row7 col2\" >sidewinder</td>\n",
       "                        <td id=\"T_cbb6e1d4_7c14_11e9_bad5_378c766d5976row7_col3\" class=\"data row7 col3\" >n01753488</td>\n",
       "                        <td id=\"T_cbb6e1d4_7c14_11e9_bad5_378c766d5976row7_col4\" class=\"data row7 col4\" >n01756291</td>\n",
       "                        <td id=\"T_cbb6e1d4_7c14_11e9_bad5_378c766d5976row7_col5\" class=\"data row7 col5\" >416</td>\n",
       "                        <td id=\"T_cbb6e1d4_7c14_11e9_bad5_378c766d5976row7_col6\" class=\"data row7 col6\" >0.000324</td>\n",
       "            </tr>\n",
       "            <tr>\n",
       "                        <th id=\"T_cbb6e1d4_7c14_11e9_bad5_378c766d5976level0_row8\" class=\"row_heading level0 row8\" >8</th>\n",
       "                        <td id=\"T_cbb6e1d4_7c14_11e9_bad5_378c766d5976row8_col0\" class=\"data row8 col0\" >9</td>\n",
       "                        <td id=\"T_cbb6e1d4_7c14_11e9_bad5_378c766d5976row8_col1\" class=\"data row8 col1\" >corn</td>\n",
       "                        <td id=\"T_cbb6e1d4_7c14_11e9_bad5_378c766d5976row8_col2\" class=\"data row8 col2\" >ear</td>\n",
       "                        <td id=\"T_cbb6e1d4_7c14_11e9_bad5_378c766d5976row8_col3\" class=\"data row8 col3\" >n12144580</td>\n",
       "                        <td id=\"T_cbb6e1d4_7c14_11e9_bad5_378c766d5976row8_col4\" class=\"data row8 col4\" >n13133613</td>\n",
       "                        <td id=\"T_cbb6e1d4_7c14_11e9_bad5_378c766d5976row8_col5\" class=\"data row8 col5\" >410</td>\n",
       "                        <td id=\"T_cbb6e1d4_7c14_11e9_bad5_378c766d5976row8_col6\" class=\"data row8 col6\" >0.00032</td>\n",
       "            </tr>\n",
       "            <tr>\n",
       "                        <th id=\"T_cbb6e1d4_7c14_11e9_bad5_378c766d5976level0_row9\" class=\"row_heading level0 row9\" >9</th>\n",
       "                        <td id=\"T_cbb6e1d4_7c14_11e9_bad5_378c766d5976row9_col0\" class=\"data row9 col0\" >10</td>\n",
       "                        <td id=\"T_cbb6e1d4_7c14_11e9_bad5_378c766d5976row9_col1\" class=\"data row9 col1\" >keyboard</td>\n",
       "                        <td id=\"T_cbb6e1d4_7c14_11e9_bad5_378c766d5976row9_col2\" class=\"data row9 col2\" >space_bar</td>\n",
       "                        <td id=\"T_cbb6e1d4_7c14_11e9_bad5_378c766d5976row9_col3\" class=\"data row9 col3\" >n04505470</td>\n",
       "                        <td id=\"T_cbb6e1d4_7c14_11e9_bad5_378c766d5976row9_col4\" class=\"data row9 col4\" >n04264628</td>\n",
       "                        <td id=\"T_cbb6e1d4_7c14_11e9_bad5_378c766d5976row9_col5\" class=\"data row9 col5\" >406</td>\n",
       "                        <td id=\"T_cbb6e1d4_7c14_11e9_bad5_378c766d5976row9_col6\" class=\"data row9 col6\" >0.000317</td>\n",
       "            </tr>\n",
       "    </tbody></table>"
      ],
      "text/plain": [
       "<pandas.io.formats.style.Styler at 0x7f6097d334e0>"
      ]
     },
     "execution_count": 270,
     "metadata": {},
     "output_type": "execute_result"
    }
   ],
   "source": [
    "df = pd.DataFrame(edges, columns = [r\"$\\tilde{y}$ name\", r\"$y^*$ name\", r\"$\\tilde{y}$ nid\", r\"$y^*$ nid\", r\"$C(\\tilde{y},y^*)$\", r\"$P(\\tilde{y},y^*)$\"])[:10]\n",
    "df.insert(loc = 0, column = 'Rank', value = df.index + 1)\n",
    "tex = df.to_latex(index = False)\n",
    "orig = '\\\\$\\\\textbackslash tilde\\\\{y\\\\}\\\\$ name &    \\\\$y\\\\textasciicircum *\\\\$ name & \\\\$\\\\textbackslash tilde\\\\{y\\\\}\\\\$ nid &  \\\\$y\\\\textasciicircum *\\\\$ nid &  \\\\$C(\\\\textbackslash tilde\\\\{y\\\\},y\\\\textasciicircum *)\\\\$ &  \\\\$P(\\\\textbackslash tilde\\\\{y\\\\},y\\\\textasciicircum *)\\\\$'\n",
    "new = '$\\\\tilde{y}$ name   &   $y^*$ name   &   $\\\\tilde{y}$ nid   &   $y^*$ nid   &   $C(\\\\tilde{y},y^*)$   &   $P(\\\\tilde{y},y^*)$ '\n",
    "tex = tex.replace(orig, new)\n",
    "print(tex)\n",
    "df.style.set_properties(subset=[r\"$C(\\tilde{y},y^*)$\"], **{'width': '50px'})"
   ]
  },
  {
   "cell_type": "code",
   "execution_count": 257,
   "metadata": {},
   "outputs": [
    {
     "data": {
      "text/plain": [
       "'\\\\begin{tabular}{lllllrr}\\n\\\\toprule\\n{} & \\\\$\\\\textbackslash tilde\\\\{y\\\\}\\\\$ name &    \\\\$y\\\\textasciicircum *\\\\$ name & \\\\$\\\\textbackslash tilde\\\\{y\\\\}\\\\$ nid &  \\\\$y\\\\textasciicircum *\\\\$ nid &  \\\\$C(\\\\textbackslash tilde\\\\{y\\\\},y\\\\textasciicircum *)\\\\$ &  \\\\$P(\\\\textbackslash tilde\\\\{y\\\\},y\\\\textasciicircum *)\\\\$ \\\\\\\\\\n\\\\midrule\\n0 &       projectile &       missile &       n04008634 &  n03773504 &                 645 &            0.000503 \\\\\\\\\\n1 &              tub &       bathtub &       n04493381 &  n02808440 &                 539 &            0.000421 \\\\\\\\\\n2 &      breastplate &       cuirass &       n02895154 &  n03146219 &                 476 &            0.000371 \\\\\\\\\\n3 &     green\\\\_lizard &     chameleon &       n01693334 &  n01682714 &                 437 &            0.000341 \\\\\\\\\\n4 &        chameleon &  green\\\\_lizard &       n01682714 &  n01693334 &                 435 &            0.000340 \\\\\\\\\\n5 &          missile &    projectile &       n03773504 &  n04008634 &                 433 &            0.000338 \\\\\\\\\\n6 &          maillot &       maillot &       n03710637 &  n03710721 &                 417 &            0.000326 \\\\\\\\\\n7 &     horned\\\\_viper &    sidewinder &       n01753488 &  n01756291 &                 416 &            0.000324 \\\\\\\\\\n8 &             corn &           ear &       n12144580 &  n13133613 &                 410 &            0.000320 \\\\\\\\\\n9 &         keyboard &     space\\\\_bar &       n04505470 &  n04264628 &                 406 &            0.000317 \\\\\\\\\\n\\\\bottomrule\\n\\\\end{tabular}\\n'"
      ]
     },
     "execution_count": 257,
     "metadata": {},
     "output_type": "execute_result"
    }
   ],
   "source": [
    "tex"
   ]
  },
  {
   "cell_type": "code",
   "execution_count": 250,
   "metadata": {},
   "outputs": [
    {
     "name": "stdout",
     "output_type": "stream",
     "text": [
      "645 | n04008634 projectile | n03773504 missile\n",
      "539 | n04493381 tub | n02808440 bathtub\n",
      "476 | n02895154 breastplate | n03146219 cuirass\n",
      "437 | n01693334 green_lizard | n01682714 American_chameleon\n",
      "435 | n01682714 American_chameleon | n01693334 green_lizard\n",
      "433 | n03773504 missile | n04008634 projectile\n",
      "417 | n03710637 maillot | n03710721 maillot\n",
      "416 | n01753488 horned_viper | n01756291 sidewinder\n",
      "410 | n12144580 corn | n13133613 ear\n",
      "406 | n04505470 typewriter_keyboard | n04264628 space_bar\n",
      "399 | n04355933 sunglass | n04356056 sunglasses\n",
      "389 | n02110185 Siberian_husky | n02109961 Eskimo_dog\n",
      "370 | n02979186 cassette_player | n04392985 tape_player\n",
      "369 | n04356056 sunglasses | n04355933 sunglass\n",
      "367 | n02109961 Eskimo_dog | n02110185 Siberian_husky\n",
      "364 | n01797886 ruffed_grouse | n01807496 partridge\n",
      "360 | n02412080 ram | n02415577 bighorn\n",
      "360 | n13133613 ear | n12144580 corn\n",
      "354 | n02395406 hog | n02396427 wild_boar\n",
      "354 | n03642806 laptop | n03832673 notebook\n",
      "351 | n03146219 cuirass | n02895154 breastplate\n",
      "351 | n01773797 garden_spider | n01773157 black_and_gold_garden_spider\n",
      "346 | n02229544 cricket | n02226429 grasshopper\n",
      "342 | n04090263 rifle | n02749479 assault_rifle\n",
      "332 | n03710721 maillot | n03710637 maillot\n",
      "330 | n02123159 tiger_cat | n02123045 tabby\n",
      "326 | n02113624 toy_poodle | n02113712 miniature_poodle\n",
      "317 | n02113712 miniature_poodle | n02113624 toy_poodle\n",
      "314 | n02106030 collie | n02106166 Border_collie\n",
      "302 | n02808440 bathtub | n04493381 tub\n"
     ]
    }
   ],
   "source": [
    "for i,j in largest_non_diag[:30]:\n",
    "    print(int(round(cj[i,j])), \"|\", idx2nid[i], idx2name[i], \"|\",  idx2nid[j], idx2name[j])"
   ]
  },
  {
   "cell_type": "code",
   "execution_count": 129,
   "metadata": {},
   "outputs": [
    {
     "name": "stdout",
     "output_type": "stream",
     "text": [
      "Top 30 row sums in confident joint (most noisy classes):\n",
      "\n"
     ]
    },
    {
     "data": {
      "text/plain": [
       "[('n04560804', 'water_jug'),\n",
       " ('n03710637', 'maillot'),\n",
       " ('n04392985', 'tape_player'),\n",
       " ('n09332890', 'lakeside'),\n",
       " ('n03180011', 'desktop_computer'),\n",
       " ('n02808440', 'bathtub'),\n",
       " ('n03832673', 'notebook'),\n",
       " ('n04041544', 'radio'),\n",
       " ('n09428293', 'seashore'),\n",
       " ('n03179701', 'desk'),\n",
       " ('n03773504', 'missile'),\n",
       " ('n02123045', 'tabby'),\n",
       " ('n01756291', 'sidewinder'),\n",
       " ('n04026417', 'purse'),\n",
       " ('n07579787', 'plate'),\n",
       " ('n04356056', 'sunglasses'),\n",
       " ('n02109961', 'Eskimo_dog'),\n",
       " ('n03976657', 'pole'),\n",
       " ('n03782006', 'monitor'),\n",
       " ('n04008634', 'projectile'),\n",
       " ('n03866082', 'overskirt'),\n",
       " ('n03871628', 'packet'),\n",
       " ('n03532672', 'hook'),\n",
       " ('n04152593', 'screen'),\n",
       " ('n01693334', 'green_lizard'),\n",
       " ('n01740131', 'night_snake'),\n",
       " ('n04355933', 'sunglass'),\n",
       " ('n03216828', 'dock'),\n",
       " ('n07930864', 'cup'),\n",
       " ('n02988304', 'CD_player')]"
      ]
     },
     "execution_count": 129,
     "metadata": {},
     "output_type": "execute_result"
    }
   ],
   "source": [
    "print(\"Top 30 row sums in confident joint (most noisy classes):\\n\")\n",
    "[(idx2nid[i], idx2name[i]) for i in np.argsort(cj_non_diag.sum(axis = 0))[::-1][:30]]"
   ]
  },
  {
   "cell_type": "markdown",
   "metadata": {},
   "source": [
    "# Analye the validation set on ImageNet"
   ]
  },
  {
   "cell_type": "code",
   "execution_count": 5,
   "metadata": {},
   "outputs": [],
   "source": [
    "# CHANGE THIS TO CHANGE EXPERIMENT\n",
    "# pyx_file = 'imagenet_val_out.npy' # NO FINE TUNING\n",
    "pyx_file = 'imagenet_val_out_cv_10fold.npy' # fine tuned with 10fold cv\n",
    "\n",
    "# where imagenet dataset is located\n",
    "val_dir = '/datasets/datasets/imagenet/val/'\n",
    "# Stored results directory\n",
    "pyx_dir = '/datasets/cgn/pyx/imagenet/'\n",
    "\n",
    "# Load in data\n",
    "with open(pyx_dir + 'imagenet_val_out_cv_10fold.npy', 'rb') as f:\n",
    "    out = np.load(f)\n",
    "with open(pyx_dir + 'imagenet_val_labels.npy', 'rb') as f:\n",
    "    labels = np.load(f)\n",
    "pyx = torch.nn.functional.softmax(torch.from_numpy(out), dim = 1).numpy()"
   ]
  },
  {
   "cell_type": "code",
   "execution_count": 7,
   "metadata": {},
   "outputs": [],
   "source": [
    "# set up mapping for imagenet validation data\n",
    "url = 'https://gist.githubusercontent.com/aaronpolhamus/964a4411c0906315deb9f4a3723aac57/'\n",
    "url += 'raw/aa66dd9dbf6b56649fa3fab83659b2acbf3cbfd1/map_clsloc.txt'\n",
    "with urlopen(url) as f:\n",
    "    lines = [x.decode('utf-8') for x in f.readlines()]    \n",
    "    nid2name = dict([(l.split(\" \")[0], l.split(\" \")[2][:-1]) for l in lines])\n",
    "    \n",
    "dataset = datasets.ImageFolder(val_dir)\n",
    "nid2idx = dataset.class_to_idx\n",
    "idx2nid = {v: k for k, v in nid2idx.items()}\n",
    "name2nid = {v: k for k, v in nid2name.items()}\n",
    "idx2name = {k: nid2name[v] for k, v in idx2nid.items()}"
   ]
  },
  {
   "cell_type": "code",
   "execution_count": 8,
   "metadata": {},
   "outputs": [],
   "source": [
    "cj = cleanlab.latent_estimation.estimate_confident_joint_from_probabilities(labels, pyx)\n",
    "py, nm, inv = cleanlab.latent_estimation.estimate_latent(cj, labels)"
   ]
  },
  {
   "cell_type": "code",
   "execution_count": 9,
   "metadata": {},
   "outputs": [],
   "source": [
    "cj_non_diag = cj - np.eye(len(cj)) * cj.diagonal()\n",
    "largest_non_diag_raveled = np.argsort(cj_non_diag.ravel())[::-1]\n",
    "largest_non_diag = np.unravel_index(largest_non_diag_raveled, cj_non_diag.shape)\n",
    "largest_non_diag = list(zip(*(list(z) for z in largest_non_diag)))"
   ]
  },
  {
   "cell_type": "code",
   "execution_count": 39,
   "metadata": {},
   "outputs": [
    {
     "name": "stdout",
     "output_type": "stream",
     "text": [
      "Top 30 row sums in confident joint (most noisy classes):\n",
      "\n"
     ]
    },
    {
     "data": {
      "text/plain": [
       "[('n02123159', 'tiger_cat'),\n",
       " ('n04355933', 'sunglass'),\n",
       " ('n04152593', 'screen'),\n",
       " ('n02113624', 'toy_poodle'),\n",
       " ('n02979186', 'cassette_player'),\n",
       " ('n02808440', 'bathtub'),\n",
       " ('n03642806', 'laptop'),\n",
       " ('n03637318', 'lampshade'),\n",
       " ('n02988304', 'CD_player'),\n",
       " ('n02107908', 'Appenzeller'),\n",
       " ('n02871525', 'bookshop'),\n",
       " ('n01753488', 'horned_viper'),\n",
       " ('n01682714', 'American_chameleon'),\n",
       " ('n03180011', 'desktop_computer'),\n",
       " ('n02110185', 'Siberian_husky'),\n",
       " ('n02412080', 'ram'),\n",
       " ('n03710637', 'maillot'),\n",
       " ('n12144580', 'corn'),\n",
       " ('n02441942', 'weasel'),\n",
       " ('n07734744', 'mushroom'),\n",
       " ('n03179701', 'desk'),\n",
       " ('n01740131', 'night_snake'),\n",
       " ('n02106030', 'collie'),\n",
       " ('n01667778', 'terrapin'),\n",
       " ('n04008634', 'projectile'),\n",
       " ('n03950228', 'pitcher'),\n",
       " ('n02119022', 'red_fox'),\n",
       " ('n03710721', 'maillot'),\n",
       " ('n03782006', 'monitor'),\n",
       " ('n04560804', 'water_jug')]"
      ]
     },
     "execution_count": 39,
     "metadata": {},
     "output_type": "execute_result"
    }
   ],
   "source": [
    "print(\"Top 30 row sums in confident joint (most noisy classes):\\n\")\n",
    "[(idx2nid[i], idx2name[i]) for i in np.argsort(cj_non_diag.sum(axis = 1))[::-1][:30]]"
   ]
  },
  {
   "cell_type": "code",
   "execution_count": 127,
   "metadata": {},
   "outputs": [
    {
     "name": "stdout",
     "output_type": "stream",
     "text": [
      "644.983461962514 | n04008634 projectile | n03773504 missile\n",
      "538.9486260454004 | n04493381 tub | n02808440 bathtub\n",
      "475.6818181818183 | n02895154 breastplate | n03146219 cuirass\n",
      "436.84210526315803 | n01693334 green_lizard | n01682714 American_chameleon\n",
      "435.0343473994112 | n01682714 American_chameleon | n01693334 green_lizard\n",
      "432.89205702647666 | n03773504 missile | n04008634 projectile\n",
      "417.0893054024257 | n03710637 maillot | n03710721 maillot\n",
      "415.62819203268646 | n01753488 horned_viper | n01756291 sidewinder\n",
      "410.09463722397487 | n12144580 corn | n13133613 ear\n",
      "406.25000000000006 | n04505470 typewriter_keyboard | n04264628 space_bar\n",
      "399.1764705882354 | n04355933 sunglass | n04356056 sunglasses\n",
      "389.451476793249 | n02110185 Siberian_husky | n02109961 Eskimo_dog\n",
      "369.8744769874478 | n02979186 cassette_player | n04392985 tape_player\n",
      "368.79432624113485 | n04356056 sunglasses | n04355933 sunglass\n",
      "366.8049792531121 | n02109961 Eskimo_dog | n02110185 Siberian_husky\n",
      "363.6563876651983 | n01797886 ruffed_grouse | n01807496 partridge\n",
      "359.6340150699678 | n02412080 ram | n02415577 bighorn\n",
      "359.51903807615236 | n13133613 ear | n12144580 corn\n",
      "353.98335315101076 | n02395406 hog | n02396427 wild_boar\n",
      "353.96039603960406 | n03642806 laptop | n03832673 notebook\n",
      "351.0659898477158 | n03146219 cuirass | n02895154 breastplate\n",
      "350.64935064935077 | n01773797 garden_spider | n01773157 black_and_gold_garden_spider\n",
      "345.89800443458984 | n02229544 cricket | n02226429 grasshopper\n",
      "341.68704156479225 | n04090263 rifle | n02749479 assault_rifle\n",
      "332.3108384458078 | n03710721 maillot | n03710637 maillot\n",
      "330.1587301587302 | n02123159 tiger_cat | n02123045 tabby\n",
      "326.0869565217391 | n02113624 toy_poodle | n02113712 miniature_poodle\n",
      "316.52173913043487 | n02113712 miniature_poodle | n02113624 toy_poodle\n",
      "313.69565217391306 | n02106030 collie | n02106166 Border_collie\n",
      "301.96292257360966 | n02808440 bathtub | n04493381 tub\n"
     ]
    }
   ],
   "source": [
    "for i,j in largest_non_diag[:30]:\n",
    "    print(cj[i,j], \"|\", idx2nid[i], idx2name[i], \"|\",  idx2nid[j], idx2name[j])"
   ]
  }
 ],
 "metadata": {
  "kernelspec": {
   "display_name": "Python 3",
   "language": "python",
   "name": "python3"
  },
  "language_info": {
   "codemirror_mode": {
    "name": "ipython",
    "version": 3
   },
   "file_extension": ".py",
   "mimetype": "text/x-python",
   "name": "python",
   "nbconvert_exporter": "python",
   "pygments_lexer": "ipython3",
   "version": "3.7.1"
  }
 },
 "nbformat": 4,
 "nbformat_minor": 2
}
